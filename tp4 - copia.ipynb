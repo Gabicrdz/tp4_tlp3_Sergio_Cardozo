{
 "cells": [
  {
   "cell_type": "markdown",
   "id": "3e4771e8",
   "metadata": {},
   "source": [
    "# Trabajo Practico n4 - Introduccion a numpy.\n",
    "## Criterios de evaluación.\n",
    "\n",
    "* Se deben utilizar nombres de variables descriptivos y claros (Utilizar la nomeclatura correspondiente para los nombres de variables).\n",
    "* Comentarios claros y concisos que expliquen el propósito de cada sección del código.\n",
    "* Utilizar mensajes de commit **descriptivos**. (Puedes utilizar la extension CONVENTIONAL COMMIT de VS-CODE). \n",
    "* Entrega en tiempo y forma.\n",
    "* Todo el código desarrollado debe ser subido a un repositorio en GitHub (el nombre del repositorio de seguir la siguiente estructura: tp4_tlp3_nombre_apellido).\n",
    "* Para resolver las actividades se debe insertar casillas de codigo entre cada actividad del cuaderno de Jupyter\n",
    "\n",
    "### ¡Importante!\n",
    "**El incumplimiento de los criterios de evaluación restará puntos en la nota final del práctico!**"
   ]
  },
  {
   "cell_type": "markdown",
   "id": "6f3340d9",
   "metadata": {},
   "source": [
    "**Importaciones:**"
   ]
  },
  {
   "cell_type": "code",
   "execution_count": 1,
   "id": "783ab170",
   "metadata": {},
   "outputs": [],
   "source": [
    "import numpy as np\n",
    "from random import randint"
   ]
  },
  {
   "cell_type": "markdown",
   "id": "c5ba7292",
   "metadata": {},
   "source": [
    "**Actividad 1:**: Crea un array de NumPy que contenga los números del 0 al 9. (Debes utilizar un metodo de numpy para su creacion.)"
   ]
  },
  {
   "cell_type": "code",
   "execution_count": 2,
   "id": "75029034",
   "metadata": {},
   "outputs": [
    {
     "name": "stdout",
     "output_type": "stream",
     "text": [
      "[0 1 2 3 4 5 6 7 8 9]\n"
     ]
    }
   ],
   "source": [
    "#todo: \n",
    "array = np.arange(10)\n",
    "print(array)\n"
   ]
  },
  {
   "cell_type": "markdown",
   "id": "cb894927",
   "metadata": {},
   "source": [
    "**Actividad 2:** Crea un array de 5 ceros, y luego cambia el tercer elemento (índice 2) para que sea 5. (Debes utilizar un metodo de numpy para su creacion.)"
   ]
  },
  {
   "cell_type": "code",
   "execution_count": 4,
   "id": "b9cd04a0",
   "metadata": {},
   "outputs": [
    {
     "name": "stdout",
     "output_type": "stream",
     "text": [
      "Array original: [0. 0. 0. 0. 0.]\n",
      "Array modificado: [0. 0. 5. 0. 0.]\n"
     ]
    }
   ],
   "source": [
    "#todo:\n",
    "array_ceros = np.zeros(5)\n",
    "print(\"Array original:\", array_ceros)\n",
    "array_ceros[2] = 5\n",
    "print(\"Array modificado:\", array_ceros)"
   ]
  },
  {
   "cell_type": "markdown",
   "id": "000352a3",
   "metadata": {},
   "source": [
    "**Actividad 3:** Genera una matriz 3x3 de números aleatorios entre 0 y 1."
   ]
  },
  {
   "cell_type": "code",
   "execution_count": 5,
   "id": "e74354c9",
   "metadata": {},
   "outputs": [
    {
     "name": "stdout",
     "output_type": "stream",
     "text": [
      "Matriz 3x3 de números aleatorios:\n",
      "[[0.53191858 0.76610645 0.50025193]\n",
      " [0.9231274  0.88260396 0.5056004 ]\n",
      " [0.64619521 0.00194465 0.3067753 ]]\n"
     ]
    }
   ],
   "source": [
    "#todo: \n",
    "matriz_random = np.random.random((3, 3))\n",
    "print(\"Matriz 3x3 de números aleatorios:\")\n",
    "print(matriz_random)"
   ]
  },
  {
   "cell_type": "markdown",
   "id": "6611aaf8",
   "metadata": {},
   "source": [
    "**Actividad 4:** Dado el siguiente array `arr = np.array([10, 20, 30, 40, 50])`\n",
    "1. Suma 5 a cada elemento.\n",
    "2. Multiplica todo por un numero aleatorio (utiliza el modulo random para generarlo.)"
   ]
  },
  {
   "cell_type": "code",
   "execution_count": 6,
   "id": "ed416e11",
   "metadata": {},
   "outputs": [
    {
     "name": "stdout",
     "output_type": "stream",
     "text": [
      "Array original: [10 20 30 40 50]\n",
      "Array después de sumar 5: [15 25 35 45 55]\n",
      "\n",
      "Número aleatorio generado: 3\n",
      "Array después de multiplicar por el número aleatorio: [ 30  60  90 120 150]\n"
     ]
    }
   ],
   "source": [
    "#todo:\n",
    "arr = np.array([10, 20, 30, 40, 50])\n",
    "\n",
    "arr_suma_5 = arr + 5\n",
    "print(\"Array original:\", arr)\n",
    "print(\"Array después de sumar 5:\", arr_suma_5)\n",
    "\n",
    "numero_aleatorio = np.random.randint(1, 11)\n",
    "arr_multiplicado = arr * numero_aleatorio\n",
    "\n",
    "print(\"\\nNúmero aleatorio generado:\", numero_aleatorio)\n",
    "print(\"Array después de multiplicar por el número aleatorio:\", arr_multiplicado)"
   ]
  },
  {
   "cell_type": "markdown",
   "id": "fbd05c4d",
   "metadata": {},
   "source": [
    "**Actividad 5:** Crea una matriz identidad de tamaño 4x4 (unos en la diagonal principal y ceros en el resto)."
   ]
  },
  {
   "cell_type": "code",
   "execution_count": 7,
   "id": "6811c19f",
   "metadata": {},
   "outputs": [
    {
     "name": "stdout",
     "output_type": "stream",
     "text": [
      "Matriz identidad 4x4:\n",
      "[[1. 0. 0. 0.]\n",
      " [0. 1. 0. 0.]\n",
      " [0. 0. 1. 0.]\n",
      " [0. 0. 0. 1.]]\n"
     ]
    }
   ],
   "source": [
    "#todo:\n",
    "matriz_identidad = np.identity(4)\n",
    "print(\"Matriz identidad 4x4:\")\n",
    "print(matriz_identidad)"
   ]
  },
  {
   "cell_type": "markdown",
   "id": "3ec18459",
   "metadata": {},
   "source": [
    "**Actividad 6:** Crea un array que comience en 0 hasta el 20, pero que solo tenga numeros pares yu luego realiza las 4 operaciones basicas. (suma, resta, multiplicacion, division)."
   ]
  },
  {
   "cell_type": "code",
   "execution_count": 10,
   "id": "f0c02872",
   "metadata": {},
   "outputs": [
    {
     "name": "stdout",
     "output_type": "stream",
     "text": [
      "Array de números pares de 0 a 20:\n",
      "[ 0  2  4  6  8 10 12 14 16 18 20]\n",
      "Suma:\n",
      "[ 2  4  6  8 10 12 14 16 18 20 22]\n",
      "Resta:\n",
      "[-2  0  2  4  6  8 10 12 14 16 18]\n",
      "Multiplicación:\n",
      "[ 0  4  8 12 16 20 24 28 32 36 40]\n",
      "División:\n",
      "[ 0.  1.  2.  3.  4.  5.  6.  7.  8.  9. 10.]\n"
     ]
    }
   ],
   "source": [
    "#todo: \n",
    "numeros_pares = np.arange(0, 21, 2)\n",
    "print(\"Array de números pares de 0 a 20:\")\n",
    "print(numeros_pares)\n",
    "\n",
    "operador = np.full_like(numeros_pares, 2)\n",
    "\n",
    "suma = numeros_pares + operador\n",
    "print(\"Suma:\")\n",
    "print(suma)\n",
    "\n",
    "resta = numeros_pares - operador\n",
    "print(\"Resta:\")\n",
    "print(resta)\n",
    "\n",
    "multiplicacion = numeros_pares * operador\n",
    "print(\"Multiplicación:\")\n",
    "print(multiplicacion)\n",
    "\n",
    "division = numeros_pares / operador\n",
    "print(\"División:\")\n",
    "print(division)\n"
   ]
  }
 ],
 "metadata": {
  "kernelspec": {
   "display_name": "Python 3",
   "language": "python",
   "name": "python3"
  },
  "language_info": {
   "codemirror_mode": {
    "name": "ipython",
    "version": 3
   },
   "file_extension": ".py",
   "mimetype": "text/x-python",
   "name": "python",
   "nbconvert_exporter": "python",
   "pygments_lexer": "ipython3",
   "version": "3.12.9"
  }
 },
 "nbformat": 4,
 "nbformat_minor": 5
}
